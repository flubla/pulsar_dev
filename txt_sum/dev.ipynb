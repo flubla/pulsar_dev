{
 "cells": [
  {
   "cell_type": "code",
   "execution_count": 2,
   "metadata": {},
   "outputs": [],
   "source": [
    "import pulsar\n",
    "\n",
    "client = pulsar.Client('pulsar://localhost:6650')\n",
    "\n",
    "# docker exec -it 3f0420eecc9d /bin/bash\n",
    "# I have no name!@3f0420eecc9d:/pulsar$ ./bin/pulsar-admin topics list public/default\n",
    "# public/default/wordcount-topic\n",
    "producer = client.create_producer('wordcount-topic')\n",
    "\n",
    "for i in range(10):\n",
    "    producer.send(('Hello-%d' % i).encode('utf-8'))\n",
    "\n",
    "client.close()\n",
    "\n",
    "\n"
   ]
  },
  {
   "cell_type": "code",
   "execution_count": 4,
   "metadata": {},
   "outputs": [
    {
     "name": "stdout",
     "output_type": "stream",
     "text": [
      "Received message 'b'Hello-0'' id='(471,10,-1,-1)'\n",
      "Received message 'b'Hello-1'' id='(471,11,-1,-1)'\n",
      "Received message 'b'Hello-2'' id='(471,12,-1,-1)'\n",
      "Received message 'b'Hello-3'' id='(471,13,-1,-1)'\n",
      "Received message 'b'Hello-4'' id='(471,14,-1,-1)'\n",
      "Received message 'b'Hello-5'' id='(471,15,-1,-1)'\n",
      "Received message 'b'Hello-6'' id='(471,16,-1,-1)'\n",
      "Received message 'b'Hello-7'' id='(471,17,-1,-1)'\n",
      "Received message 'b'Hello-8'' id='(471,18,-1,-1)'\n",
      "Received message 'b'Hello-9'' id='(471,19,-1,-1)'\n",
      "Received message 'b'How are you-0'' id='(471,20,-1,-1)'\n",
      "Received message 'b'How are you-1'' id='(471,21,-1,-1)'\n",
      "Received message 'b'How are you-2'' id='(471,22,-1,-1)'\n",
      "Received message 'b'How are you-3'' id='(471,23,-1,-1)'\n",
      "Received message 'b'How are you-4'' id='(471,24,-1,-1)'\n",
      "Received message 'b'How are you-5'' id='(471,25,-1,-1)'\n",
      "Received message 'b'How are you-6'' id='(471,26,-1,-1)'\n",
      "Received message 'b'How are you-7'' id='(471,27,-1,-1)'\n",
      "Received message 'b'How are you-8'' id='(471,28,-1,-1)'\n",
      "Received message 'b'How are you-9'' id='(471,29,-1,-1)'\n"
     ]
    },
    {
     "ename": "Interrupted",
     "evalue": "Pulsar error: ResultInterrupted",
     "output_type": "error",
     "traceback": [
      "\u001b[1;31m---------------------------------------------------------------------------\u001b[0m",
      "\u001b[1;31mInterrupted\u001b[0m                               Traceback (most recent call last)",
      "Cell \u001b[1;32mIn[4], line 8\u001b[0m\n\u001b[0;32m      5\u001b[0m consumer \u001b[39m=\u001b[39m client\u001b[39m.\u001b[39msubscribe(\u001b[39m'\u001b[39m\u001b[39mwordcount-topic\u001b[39m\u001b[39m'\u001b[39m, \u001b[39m'\u001b[39m\u001b[39mwordcount-topic-subscription\u001b[39m\u001b[39m'\u001b[39m)\n\u001b[0;32m      7\u001b[0m \u001b[39mwhile\u001b[39;00m \u001b[39mTrue\u001b[39;00m:\n\u001b[1;32m----> 8\u001b[0m     msg \u001b[39m=\u001b[39m consumer\u001b[39m.\u001b[39;49mreceive()\n\u001b[0;32m      9\u001b[0m     \u001b[39mtry\u001b[39;00m:\n\u001b[0;32m     10\u001b[0m         \u001b[39mprint\u001b[39m(\u001b[39m\"\u001b[39m\u001b[39mReceived message \u001b[39m\u001b[39m'\u001b[39m\u001b[39m{}\u001b[39;00m\u001b[39m'\u001b[39m\u001b[39m id=\u001b[39m\u001b[39m'\u001b[39m\u001b[39m{}\u001b[39;00m\u001b[39m'\u001b[39m\u001b[39m\"\u001b[39m\u001b[39m.\u001b[39mformat(msg\u001b[39m.\u001b[39mdata(), msg\u001b[39m.\u001b[39mmessage_id()))\n",
      "File \u001b[1;32mc:\\Users\\kevin\\miniconda3\\Lib\\site-packages\\pulsar\\__init__.py:1382\u001b[0m, in \u001b[0;36mConsumer.receive\u001b[1;34m(self, timeout_millis)\u001b[0m\n\u001b[0;32m   1369\u001b[0m \u001b[39m\u001b[39m\u001b[39m\"\"\"\u001b[39;00m\n\u001b[0;32m   1370\u001b[0m \u001b[39mReceive a single message.\u001b[39;00m\n\u001b[0;32m   1371\u001b[0m \n\u001b[1;32m   (...)\u001b[0m\n\u001b[0;32m   1379\u001b[0m \u001b[39m    If specified, the receiver will raise an exception if a message is not available within the timeout.\u001b[39;00m\n\u001b[0;32m   1380\u001b[0m \u001b[39m\"\"\"\u001b[39;00m\n\u001b[0;32m   1381\u001b[0m \u001b[39mif\u001b[39;00m timeout_millis \u001b[39mis\u001b[39;00m \u001b[39mNone\u001b[39;00m:\n\u001b[1;32m-> 1382\u001b[0m     msg \u001b[39m=\u001b[39m \u001b[39mself\u001b[39;49m\u001b[39m.\u001b[39;49m_consumer\u001b[39m.\u001b[39;49mreceive()\n\u001b[0;32m   1383\u001b[0m \u001b[39melse\u001b[39;00m:\n\u001b[0;32m   1384\u001b[0m     _check_type(\u001b[39mint\u001b[39m, timeout_millis, \u001b[39m'\u001b[39m\u001b[39mtimeout_millis\u001b[39m\u001b[39m'\u001b[39m)\n",
      "\u001b[1;31mInterrupted\u001b[0m: Pulsar error: ResultInterrupted"
     ]
    }
   ],
   "source": [
    "# import pulsar\n",
    "\n",
    "client = pulsar.Client('pulsar://localhost:6650')\n",
    "\n",
    "consumer = client.subscribe('test-1', 'wordcount-topic-subscription')\n",
    "\n",
    "while True:\n",
    "    msg = consumer.receive()\n",
    "    try:\n",
    "        print(\"Received message '{}' id='{}'\".format(msg.data(), msg.message_id()))\n",
    "        # Acknowledge successful processing of the message\n",
    "        consumer.acknowledge(msg)\n",
    "    except Exception:\n",
    "        # Message failed to be processed\n",
    "        consumer.negative_acknowledge(msg)\n",
    "\n",
    "client.close()\n",
    "\n"
   ]
  }
 ],
 "metadata": {
  "kernelspec": {
   "display_name": "base",
   "language": "python",
   "name": "python3"
  },
  "language_info": {
   "codemirror_mode": {
    "name": "ipython",
    "version": 3
   },
   "file_extension": ".py",
   "mimetype": "text/x-python",
   "name": "python",
   "nbconvert_exporter": "python",
   "pygments_lexer": "ipython3",
   "version": "3.11.4"
  },
  "orig_nbformat": 4
 },
 "nbformat": 4,
 "nbformat_minor": 2
}
