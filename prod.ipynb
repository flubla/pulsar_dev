{
 "cells": [
  {
   "cell_type": "code",
   "execution_count": null,
   "metadata": {},
   "outputs": [],
   "source": [
    "import pulsar\n",
    "\n",
    "client = pulsar.Client('pulsar://localhost:6650')\n",
    "\n",
    "# docker exec -it 3f0420eecc9d /bin/bash\n",
    "# I have no name!@3f0420eecc9d:/pulsar$ ./bin/pulsar-admin topics list public/default\n",
    "# public/default/wordcount-topic\n",
    "producer = client.create_producer('wordcount-topic')\n",
    "\n",
    "for i in range(10):\n",
    "    producer.send(('Hello-%d' % i).encode('utf-8'))\n",
    "\n",
    "client.close()"
   ]
  }
 ],
 "metadata": {
  "language_info": {
   "name": "python"
  },
  "orig_nbformat": 4
 },
 "nbformat": 4,
 "nbformat_minor": 2
}
